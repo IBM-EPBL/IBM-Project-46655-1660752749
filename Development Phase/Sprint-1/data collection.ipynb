{
  "cells": [
    {
      "cell_type": "code",
      "execution_count": 2,
      "metadata": {
        "id": "1xl0RXHVhMyH"
      },
      "outputs": [],
      "source": [
        "from tensorflow.keras.preprocessing.image import ImageDataGenerator"
      ]
    },
    {
      "cell_type": "markdown",
      "metadata": {
        "id": "jXWZ4-HuWoA7"
      },
      "source": [
        "# Define the parameters/arguments for ImageDataGenerator class"
      ]
    },
    {
      "cell_type": "code",
      "execution_count": 3,
      "metadata": {
        "id": "ytKUOUWRWqgu"
      },
      "outputs": [],
      "source": [
        "train_datagen=ImageDataGenerator(rescale=1./255,shear_range=0.2,zoom_range=0.2,horizontal_flip=True)\n",
        "test_datagen=ImageDataGenerator(rescale=1./255)"
      ]
    },
    {
      "cell_type": "markdown",
      "metadata": {
        "id": "UtXZRisrWuwm"
      },
      "source": [
        "# Applying ImageDataGenerator functionality to trainset and testset"
      ]
    },
    {
      "cell_type": "code",
      "execution_count": 4,
      "metadata": {
        "colab": {
          "base_uri": "https://localhost:8080/"
        },
        "id": "wcaV_tsTWzCV",
        "outputId": "82a57c66-e277-4151-d00f-ed62d778b757"
      },
      "outputs": [
        {
          "name": "stdout",
          "output_type": "stream",
          "text": [
            "Found 594 images belonging to 6 classes.\n",
            "Found 30 images belonging to 6 classes.\n"
          ]
        }
      ],
      "source": [
        "x_train = train_datagen.flow_from_directory('/content/Dataset/train', target_size = (64,64),\n",
        "                                            batch_size = 8, class_mode = 'categorical')\n",
        "x_test = test_datagen.flow_from_directory('/content/Dataset/test', target_size = (64,64),\n",
        "                                          batch_size = 8, class_mode = 'categorical')"
      ]
    }
  ],
  "metadata": {
    "accelerator": "GPU",
    "colab": {
      "collapsed_sections": [],
      "provenance": []
    },
    "gpuClass": "standard",
    "kernelspec": {
      "display_name": "Python 3",
      "name": "python3"
    },
    "language_info": {
      "name": "python"
    }
  },
  "nbformat": 4,
  "nbformat_minor": 0
}
